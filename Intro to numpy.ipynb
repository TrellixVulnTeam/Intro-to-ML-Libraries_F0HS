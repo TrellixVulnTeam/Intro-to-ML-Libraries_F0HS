{
 "cells": [
  {
   "cell_type": "code",
   "execution_count": 5,
   "id": "7483f9a1",
   "metadata": {},
   "outputs": [],
   "source": [
    "import numpy as np"
   ]
  },
  {
   "cell_type": "markdown",
   "id": "d4a2315f",
   "metadata": {},
   "source": [
    "# DataTypes and Attributes"
   ]
  },
  {
   "cell_type": "code",
   "execution_count": 6,
   "id": "5a23d060",
   "metadata": {},
   "outputs": [],
   "source": [
    "# Numpy's main datatype is ndarray"
   ]
  },
  {
   "cell_type": "code",
   "execution_count": 7,
   "id": "cbb19ee2",
   "metadata": {},
   "outputs": [
    {
     "data": {
      "text/plain": [
       "array([1, 2, 3, 4])"
      ]
     },
     "execution_count": 7,
     "metadata": {},
     "output_type": "execute_result"
    }
   ],
   "source": [
    "a1=np.array([1,2,3,4])\n",
    "a1"
   ]
  },
  {
   "cell_type": "code",
   "execution_count": 8,
   "id": "365ed23c",
   "metadata": {},
   "outputs": [
    {
     "data": {
      "text/plain": [
       "numpy.ndarray"
      ]
     },
     "execution_count": 8,
     "metadata": {},
     "output_type": "execute_result"
    }
   ],
   "source": [
    "type(a1)"
   ]
  },
  {
   "cell_type": "code",
   "execution_count": 9,
   "id": "e2515c68",
   "metadata": {},
   "outputs": [],
   "source": [
    "a2=np.array([[1,2,3.7],\n",
    "            [2.4,3,4]])\n",
    "a3=np.array([[[1,2,3],\n",
    "             [1.2,3,5]],\n",
    "            \n",
    "            [[1,22,3.6],\n",
    "            [2,3,4]]])"
   ]
  },
  {
   "cell_type": "code",
   "execution_count": 10,
   "id": "543cb0c3",
   "metadata": {},
   "outputs": [
    {
     "data": {
      "text/plain": [
       "array([[1. , 2. , 3.7],\n",
       "       [2.4, 3. , 4. ]])"
      ]
     },
     "execution_count": 10,
     "metadata": {},
     "output_type": "execute_result"
    }
   ],
   "source": [
    "a2"
   ]
  },
  {
   "cell_type": "code",
   "execution_count": 11,
   "id": "8cc5c33e",
   "metadata": {},
   "outputs": [
    {
     "data": {
      "text/plain": [
       "array([[[ 1. ,  2. ,  3. ],\n",
       "        [ 1.2,  3. ,  5. ]],\n",
       "\n",
       "       [[ 1. , 22. ,  3.6],\n",
       "        [ 2. ,  3. ,  4. ]]])"
      ]
     },
     "execution_count": 11,
     "metadata": {},
     "output_type": "execute_result"
    }
   ],
   "source": [
    "a3"
   ]
  },
  {
   "cell_type": "code",
   "execution_count": 12,
   "id": "5d824ad2",
   "metadata": {},
   "outputs": [
    {
     "data": {
      "text/plain": [
       "(4,)"
      ]
     },
     "execution_count": 12,
     "metadata": {},
     "output_type": "execute_result"
    }
   ],
   "source": [
    "a1.shape"
   ]
  },
  {
   "cell_type": "code",
   "execution_count": 13,
   "id": "840302d4",
   "metadata": {},
   "outputs": [
    {
     "data": {
      "text/plain": [
       "(2, 3)"
      ]
     },
     "execution_count": 13,
     "metadata": {},
     "output_type": "execute_result"
    }
   ],
   "source": [
    "a2.shape\n"
   ]
  },
  {
   "cell_type": "code",
   "execution_count": 14,
   "id": "bdf303aa",
   "metadata": {},
   "outputs": [
    {
     "data": {
      "text/plain": [
       "(2, 2, 3)"
      ]
     },
     "execution_count": 14,
     "metadata": {},
     "output_type": "execute_result"
    }
   ],
   "source": [
    "a3.shape"
   ]
  },
  {
   "cell_type": "code",
   "execution_count": 15,
   "id": "27a89949",
   "metadata": {},
   "outputs": [
    {
     "data": {
      "text/plain": [
       "3"
      ]
     },
     "execution_count": 15,
     "metadata": {},
     "output_type": "execute_result"
    }
   ],
   "source": [
    "a3.ndim"
   ]
  },
  {
   "cell_type": "code",
   "execution_count": 16,
   "id": "70b6590f",
   "metadata": {},
   "outputs": [
    {
     "data": {
      "text/plain": [
       "dtype('int32')"
      ]
     },
     "execution_count": 16,
     "metadata": {},
     "output_type": "execute_result"
    }
   ],
   "source": [
    "a1.dtype"
   ]
  },
  {
   "cell_type": "code",
   "execution_count": 17,
   "id": "58903d0a",
   "metadata": {},
   "outputs": [
    {
     "data": {
      "text/plain": [
       "4"
      ]
     },
     "execution_count": 17,
     "metadata": {},
     "output_type": "execute_result"
    }
   ],
   "source": [
    "a1.size"
   ]
  },
  {
   "cell_type": "code",
   "execution_count": 18,
   "id": "78c4db6d",
   "metadata": {},
   "outputs": [
    {
     "data": {
      "text/plain": [
       "12"
      ]
     },
     "execution_count": 18,
     "metadata": {},
     "output_type": "execute_result"
    }
   ],
   "source": [
    "a3.size"
   ]
  },
  {
   "cell_type": "code",
   "execution_count": 19,
   "id": "c80b045d",
   "metadata": {},
   "outputs": [
    {
     "data": {
      "text/plain": [
       "(numpy.ndarray, numpy.ndarray, numpy.ndarray)"
      ]
     },
     "execution_count": 19,
     "metadata": {},
     "output_type": "execute_result"
    }
   ],
   "source": [
    "type(a1),type(a2),type(a3)"
   ]
  },
  {
   "cell_type": "code",
   "execution_count": 20,
   "id": "3078411d",
   "metadata": {},
   "outputs": [
    {
     "data": {
      "text/html": [
       "<div>\n",
       "<style scoped>\n",
       "    .dataframe tbody tr th:only-of-type {\n",
       "        vertical-align: middle;\n",
       "    }\n",
       "\n",
       "    .dataframe tbody tr th {\n",
       "        vertical-align: top;\n",
       "    }\n",
       "\n",
       "    .dataframe thead th {\n",
       "        text-align: right;\n",
       "    }\n",
       "</style>\n",
       "<table border=\"1\" class=\"dataframe\">\n",
       "  <thead>\n",
       "    <tr style=\"text-align: right;\">\n",
       "      <th></th>\n",
       "      <th>0</th>\n",
       "      <th>1</th>\n",
       "      <th>2</th>\n",
       "    </tr>\n",
       "  </thead>\n",
       "  <tbody>\n",
       "    <tr>\n",
       "      <th>0</th>\n",
       "      <td>1.0</td>\n",
       "      <td>2.0</td>\n",
       "      <td>3.7</td>\n",
       "    </tr>\n",
       "    <tr>\n",
       "      <th>1</th>\n",
       "      <td>2.4</td>\n",
       "      <td>3.0</td>\n",
       "      <td>4.0</td>\n",
       "    </tr>\n",
       "  </tbody>\n",
       "</table>\n",
       "</div>"
      ],
      "text/plain": [
       "     0    1    2\n",
       "0  1.0  2.0  3.7\n",
       "1  2.4  3.0  4.0"
      ]
     },
     "execution_count": 20,
     "metadata": {},
     "output_type": "execute_result"
    }
   ],
   "source": [
    "#Create a DataFrame from NumPy array\n",
    "import pandas as pd\n",
    "\n",
    "df=pd.DataFrame(a2)\n",
    "df"
   ]
  },
  {
   "cell_type": "markdown",
   "id": "bcac8496",
   "metadata": {},
   "source": [
    "# Creating Arrays"
   ]
  },
  {
   "cell_type": "code",
   "execution_count": 21,
   "id": "69c94205",
   "metadata": {},
   "outputs": [
    {
     "data": {
      "text/plain": [
       "array([[1., 1., 1.],\n",
       "       [1., 1., 1.]])"
      ]
     },
     "execution_count": 21,
     "metadata": {},
     "output_type": "execute_result"
    }
   ],
   "source": [
    "ones=np.ones((2,3))\n",
    "ones"
   ]
  },
  {
   "cell_type": "code",
   "execution_count": 22,
   "id": "7ab8cd54",
   "metadata": {},
   "outputs": [
    {
     "data": {
      "text/plain": [
       "dtype('float64')"
      ]
     },
     "execution_count": 22,
     "metadata": {},
     "output_type": "execute_result"
    }
   ],
   "source": [
    "ones.dtype"
   ]
  },
  {
   "cell_type": "code",
   "execution_count": 23,
   "id": "d4d60acb",
   "metadata": {},
   "outputs": [
    {
     "data": {
      "text/plain": [
       "array([[0, 0, 0],\n",
       "       [0, 0, 0],\n",
       "       [0, 0, 0]])"
      ]
     },
     "execution_count": 23,
     "metadata": {},
     "output_type": "execute_result"
    }
   ],
   "source": [
    "zeros=np.zeros((3,3),int)\n",
    "zeros"
   ]
  },
  {
   "cell_type": "code",
   "execution_count": 24,
   "id": "cc874ccf",
   "metadata": {},
   "outputs": [],
   "source": [
    "range_array = np.arange(0,10,2)"
   ]
  },
  {
   "cell_type": "code",
   "execution_count": 25,
   "id": "d23255bc",
   "metadata": {},
   "outputs": [
    {
     "data": {
      "text/plain": [
       "array([0, 2, 4, 6, 8])"
      ]
     },
     "execution_count": 25,
     "metadata": {},
     "output_type": "execute_result"
    }
   ],
   "source": [
    "range_array"
   ]
  },
  {
   "cell_type": "code",
   "execution_count": 26,
   "id": "d40283e0",
   "metadata": {},
   "outputs": [
    {
     "data": {
      "text/plain": [
       "array([[3, 7, 1, 4],\n",
       "       [5, 5, 1, 9],\n",
       "       [0, 3, 3, 6]])"
      ]
     },
     "execution_count": 26,
     "metadata": {},
     "output_type": "execute_result"
    }
   ],
   "source": [
    "random_array = np.random.randint(0,10,size=(3,4))\n",
    "random_array"
   ]
  },
  {
   "cell_type": "code",
   "execution_count": 27,
   "id": "4775c665",
   "metadata": {},
   "outputs": [
    {
     "data": {
      "text/plain": [
       "array([[0.16559171, 0.12037229, 0.88790778],\n",
       "       [0.8243882 , 0.54495144, 0.79031683],\n",
       "       [0.20434826, 0.58839258, 0.65200724],\n",
       "       [0.76735201, 0.49690457, 0.85356907],\n",
       "       [0.29411394, 0.94742906, 0.45849198]])"
      ]
     },
     "execution_count": 27,
     "metadata": {},
     "output_type": "execute_result"
    }
   ],
   "source": [
    "random_array2=np.random.random((5,3))\n",
    "random_array2"
   ]
  },
  {
   "cell_type": "code",
   "execution_count": 28,
   "id": "626bca86",
   "metadata": {},
   "outputs": [
    {
     "data": {
      "text/plain": [
       "array([[7, 5, 1],\n",
       "       [8, 7, 8],\n",
       "       [2, 9, 7],\n",
       "       [7, 7, 9],\n",
       "       [8, 4, 2]])"
      ]
     },
     "execution_count": 28,
     "metadata": {},
     "output_type": "execute_result"
    }
   ],
   "source": [
    "#pseudo-random numbers\n",
    "np.random.seed(4)\n",
    "random_array4=np.random.randint(10,size=(5,3))\n",
    "random_array4"
   ]
  },
  {
   "cell_type": "markdown",
   "id": "e897c6fb",
   "metadata": {},
   "source": [
    "# Viewing arrays and metrices"
   ]
  },
  {
   "cell_type": "code",
   "execution_count": 29,
   "id": "44bd9461",
   "metadata": {},
   "outputs": [
    {
     "data": {
      "text/plain": [
       "array([0.12037229, 0.16559171, 0.20434826, 0.29411394, 0.45849198,\n",
       "       0.49690457, 0.54495144, 0.58839258, 0.65200724, 0.76735201,\n",
       "       0.79031683, 0.8243882 , 0.85356907, 0.88790778, 0.94742906])"
      ]
     },
     "execution_count": 29,
     "metadata": {},
     "output_type": "execute_result"
    }
   ],
   "source": [
    "np.unique(random_array2)"
   ]
  },
  {
   "cell_type": "code",
   "execution_count": 30,
   "id": "0b6e479c",
   "metadata": {},
   "outputs": [
    {
     "data": {
      "text/plain": [
       "array([0, 1, 3, 4, 5, 6, 7, 9])"
      ]
     },
     "execution_count": 30,
     "metadata": {},
     "output_type": "execute_result"
    }
   ],
   "source": [
    "np.unique(random_array)"
   ]
  },
  {
   "cell_type": "code",
   "execution_count": 31,
   "id": "96dcc85a",
   "metadata": {},
   "outputs": [
    {
     "data": {
      "text/plain": [
       "array([[1. , 2. , 3. ],\n",
       "       [1.2, 3. , 5. ]])"
      ]
     },
     "execution_count": 31,
     "metadata": {},
     "output_type": "execute_result"
    }
   ],
   "source": [
    "a3[0]"
   ]
  },
  {
   "cell_type": "code",
   "execution_count": 32,
   "id": "e2c0f1f4",
   "metadata": {},
   "outputs": [
    {
     "data": {
      "text/plain": [
       "array([[[ 1. ,  2. ,  3. ],\n",
       "        [ 1.2,  3. ,  5. ]],\n",
       "\n",
       "       [[ 1. , 22. ,  3.6],\n",
       "        [ 2. ,  3. ,  4. ]]])"
      ]
     },
     "execution_count": 32,
     "metadata": {},
     "output_type": "execute_result"
    }
   ],
   "source": [
    "a3"
   ]
  },
  {
   "cell_type": "code",
   "execution_count": 33,
   "id": "d4a1ab3e",
   "metadata": {},
   "outputs": [
    {
     "data": {
      "text/plain": [
       "array([1.2, 3. , 5. ])"
      ]
     },
     "execution_count": 33,
     "metadata": {},
     "output_type": "execute_result"
    }
   ],
   "source": [
    "a3[0][1]"
   ]
  },
  {
   "cell_type": "code",
   "execution_count": 34,
   "id": "dd3e4408",
   "metadata": {},
   "outputs": [
    {
     "data": {
      "text/plain": [
       "3.0"
      ]
     },
     "execution_count": 34,
     "metadata": {},
     "output_type": "execute_result"
    }
   ],
   "source": [
    "a3[0][1][1]"
   ]
  },
  {
   "cell_type": "code",
   "execution_count": 35,
   "id": "6e053241",
   "metadata": {},
   "outputs": [
    {
     "data": {
      "text/plain": [
       "array([[[ 1. ,  2. ],\n",
       "        [ 1.2,  3. ]],\n",
       "\n",
       "       [[ 1. , 22. ],\n",
       "        [ 2. ,  3. ]]])"
      ]
     },
     "execution_count": 35,
     "metadata": {},
     "output_type": "execute_result"
    }
   ],
   "source": [
    "a3[:2,:2,:2]"
   ]
  },
  {
   "cell_type": "code",
   "execution_count": 36,
   "id": "a06f76c6",
   "metadata": {},
   "outputs": [
    {
     "data": {
      "text/plain": [
       "array([[[[6, 4, 3, 0, 7],\n",
       "         [5, 5, 9, 6, 6],\n",
       "         [8, 2, 5, 8, 1],\n",
       "         [2, 7, 0, 8, 3]],\n",
       "\n",
       "        [[1, 0, 3, 2, 3],\n",
       "         [2, 9, 2, 1, 0],\n",
       "         [1, 9, 9, 0, 7],\n",
       "         [2, 6, 3, 7, 8]],\n",
       "\n",
       "        [[2, 6, 7, 7, 9],\n",
       "         [2, 7, 5, 3, 0],\n",
       "         [5, 4, 3, 8, 9],\n",
       "         [5, 8, 6, 7, 0]]],\n",
       "\n",
       "\n",
       "       [[[4, 6, 8, 4, 8],\n",
       "         [1, 9, 5, 4, 2],\n",
       "         [3, 4, 7, 6, 6],\n",
       "         [8, 0, 3, 5, 6]],\n",
       "\n",
       "        [[1, 1, 6, 0, 8],\n",
       "         [7, 5, 7, 6, 8],\n",
       "         [4, 4, 0, 7, 2],\n",
       "         [1, 8, 8, 1, 3]],\n",
       "\n",
       "        [[1, 3, 6, 7, 4],\n",
       "         [0, 7, 3, 7, 9],\n",
       "         [6, 6, 9, 3, 2],\n",
       "         [7, 6, 7, 9, 4]]]])"
      ]
     },
     "execution_count": 36,
     "metadata": {},
     "output_type": "execute_result"
    }
   ],
   "source": [
    "a4=np.random.randint(10,size=(2,3,4,5))\n",
    "a4"
   ]
  },
  {
   "cell_type": "code",
   "execution_count": 37,
   "id": "80ae8cc5",
   "metadata": {},
   "outputs": [
    {
     "data": {
      "text/plain": [
       "array([[[[6, 4],\n",
       "         [5, 5],\n",
       "         [8, 2],\n",
       "         [2, 7]],\n",
       "\n",
       "        [[1, 0],\n",
       "         [2, 9],\n",
       "         [1, 9],\n",
       "         [2, 6]],\n",
       "\n",
       "        [[2, 6],\n",
       "         [2, 7],\n",
       "         [5, 4],\n",
       "         [5, 8]]],\n",
       "\n",
       "\n",
       "       [[[4, 6],\n",
       "         [1, 9],\n",
       "         [3, 4],\n",
       "         [8, 0]],\n",
       "\n",
       "        [[1, 1],\n",
       "         [7, 5],\n",
       "         [4, 4],\n",
       "         [1, 8]],\n",
       "\n",
       "        [[1, 3],\n",
       "         [0, 7],\n",
       "         [6, 6],\n",
       "         [7, 6]]]])"
      ]
     },
     "execution_count": 37,
     "metadata": {},
     "output_type": "execute_result"
    }
   ],
   "source": [
    "a4[:,:,:,:2]"
   ]
  },
  {
   "cell_type": "markdown",
   "id": "cf45c91f",
   "metadata": {},
   "source": [
    "# Manipulating & comparing arrays"
   ]
  },
  {
   "cell_type": "markdown",
   "id": "e3ff5897",
   "metadata": {},
   "source": [
    "## Airthmetic"
   ]
  },
  {
   "cell_type": "code",
   "execution_count": 38,
   "id": "ec030d40",
   "metadata": {},
   "outputs": [
    {
     "data": {
      "text/plain": [
       "array([1, 2, 3, 4])"
      ]
     },
     "execution_count": 38,
     "metadata": {},
     "output_type": "execute_result"
    }
   ],
   "source": [
    "a1"
   ]
  },
  {
   "cell_type": "code",
   "execution_count": 39,
   "id": "7161f6dd",
   "metadata": {},
   "outputs": [
    {
     "data": {
      "text/plain": [
       "array([1., 1., 1., 1.])"
      ]
     },
     "execution_count": 39,
     "metadata": {},
     "output_type": "execute_result"
    }
   ],
   "source": [
    "ones =np.ones(4)\n",
    "ones"
   ]
  },
  {
   "cell_type": "code",
   "execution_count": 40,
   "id": "eb0074bd",
   "metadata": {},
   "outputs": [
    {
     "data": {
      "text/plain": [
       "array([2., 3., 4., 5.])"
      ]
     },
     "execution_count": 40,
     "metadata": {},
     "output_type": "execute_result"
    }
   ],
   "source": [
    "a1+ones"
   ]
  },
  {
   "cell_type": "code",
   "execution_count": 41,
   "id": "999ef9bd",
   "metadata": {},
   "outputs": [
    {
     "data": {
      "text/plain": [
       "array([0., 1., 2., 3.])"
      ]
     },
     "execution_count": 41,
     "metadata": {},
     "output_type": "execute_result"
    }
   ],
   "source": [
    "a1-ones"
   ]
  },
  {
   "cell_type": "code",
   "execution_count": 42,
   "id": "0cc4fb52",
   "metadata": {},
   "outputs": [
    {
     "data": {
      "text/plain": [
       "array([1., 2., 3., 4.])"
      ]
     },
     "execution_count": 42,
     "metadata": {},
     "output_type": "execute_result"
    }
   ],
   "source": [
    "a1 * ones"
   ]
  },
  {
   "cell_type": "code",
   "execution_count": 45,
   "id": "14ec7823",
   "metadata": {},
   "outputs": [
    {
     "data": {
      "text/plain": [
       "array([[1. , 2. , 3.7],\n",
       "       [2.4, 3. , 4. ]])"
      ]
     },
     "execution_count": 45,
     "metadata": {},
     "output_type": "execute_result"
    }
   ],
   "source": [
    "a2"
   ]
  },
  {
   "cell_type": "code",
   "execution_count": 47,
   "id": "089cdcdb",
   "metadata": {},
   "outputs": [
    {
     "data": {
      "text/plain": [
       "array([[[ 1.  ,  4.  , 11.1 ],\n",
       "        [ 2.88,  9.  , 20.  ]],\n",
       "\n",
       "       [[ 1.  , 44.  , 13.32],\n",
       "        [ 4.8 ,  9.  , 16.  ]]])"
      ]
     },
     "execution_count": 47,
     "metadata": {},
     "output_type": "execute_result"
    }
   ],
   "source": [
    "a2* a3"
   ]
  },
  {
   "cell_type": "code",
   "execution_count": 48,
   "id": "0faa882a",
   "metadata": {},
   "outputs": [
    {
     "data": {
      "text/plain": [
       "array([ 1,  4,  9, 16], dtype=int32)"
      ]
     },
     "execution_count": 48,
     "metadata": {},
     "output_type": "execute_result"
    }
   ],
   "source": [
    "a1 ** 2"
   ]
  },
  {
   "cell_type": "code",
   "execution_count": 49,
   "id": "57ce5a24",
   "metadata": {},
   "outputs": [
    {
     "data": {
      "text/plain": [
       "array([ 1,  4,  9, 16], dtype=int32)"
      ]
     },
     "execution_count": 49,
     "metadata": {},
     "output_type": "execute_result"
    }
   ],
   "source": [
    "np.square(a1)"
   ]
  },
  {
   "cell_type": "code",
   "execution_count": null,
   "id": "813f7423",
   "metadata": {},
   "outputs": [],
   "source": []
  }
 ],
 "metadata": {
  "kernelspec": {
   "display_name": "Python 3 (ipykernel)",
   "language": "python",
   "name": "python3"
  },
  "language_info": {
   "codemirror_mode": {
    "name": "ipython",
    "version": 3
   },
   "file_extension": ".py",
   "mimetype": "text/x-python",
   "name": "python",
   "nbconvert_exporter": "python",
   "pygments_lexer": "ipython3",
   "version": "3.9.7"
  }
 },
 "nbformat": 4,
 "nbformat_minor": 5
}
